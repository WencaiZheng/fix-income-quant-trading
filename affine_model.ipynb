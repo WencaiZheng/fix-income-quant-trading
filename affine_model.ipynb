{
 "cells": [
  {
   "cell_type": "markdown",
   "metadata": {},
   "source": [
    "# A one-factor affine term structure model\n",
    "## When $\\lambda=0$, the model is Vasicek\n",
    "$dr(t)=\\{\\mu-\\kappa r(t)\\}dt+\\sqrt{\\sigma} dW(t)$"
   ]
  },
  {
   "cell_type": "code",
   "execution_count": 1,
   "metadata": {},
   "outputs": [
    {
     "output_type": "execute_result",
     "data": {
      "text/plain": "            Settle_ED1  Settle_ED2  ...  Settle_ED19  Settle_ED20\nDate                                ...                          \n2016-01-04      99.275      99.115  ...       97.530       97.475\n2016-01-05      99.285      99.130  ...       97.550       97.490\n2016-01-06      99.300      99.160  ...       97.645       97.585\n2016-01-07      99.315      99.195  ...       97.675       97.615\n2016-01-08      99.300      99.185  ...       97.740       97.675\n\n[5 rows x 20 columns]",
      "text/html": "<div>\n<style scoped>\n    .dataframe tbody tr th:only-of-type {\n        vertical-align: middle;\n    }\n\n    .dataframe tbody tr th {\n        vertical-align: top;\n    }\n\n    .dataframe thead th {\n        text-align: right;\n    }\n</style>\n<table border=\"1\" class=\"dataframe\">\n  <thead>\n    <tr style=\"text-align: right;\">\n      <th></th>\n      <th>Settle_ED1</th>\n      <th>Settle_ED2</th>\n      <th>Settle_ED3</th>\n      <th>Settle_ED4</th>\n      <th>Settle_ED5</th>\n      <th>Settle_ED6</th>\n      <th>Settle_ED7</th>\n      <th>Settle_ED8</th>\n      <th>Settle_ED9</th>\n      <th>Settle_ED10</th>\n      <th>Settle_ED11</th>\n      <th>Settle_ED12</th>\n      <th>Settle_ED13</th>\n      <th>Settle_ED14</th>\n      <th>Settle_ED15</th>\n      <th>Settle_ED16</th>\n      <th>Settle_ED17</th>\n      <th>Settle_ED18</th>\n      <th>Settle_ED19</th>\n      <th>Settle_ED20</th>\n    </tr>\n    <tr>\n      <th>Date</th>\n      <th></th>\n      <th></th>\n      <th></th>\n      <th></th>\n      <th></th>\n      <th></th>\n      <th></th>\n      <th></th>\n      <th></th>\n      <th></th>\n      <th></th>\n      <th></th>\n      <th></th>\n      <th></th>\n      <th></th>\n      <th></th>\n      <th></th>\n      <th></th>\n      <th></th>\n      <th></th>\n    </tr>\n  </thead>\n  <tbody>\n    <tr>\n      <th>2016-01-04</th>\n      <td>99.275</td>\n      <td>99.115</td>\n      <td>98.955</td>\n      <td>98.790</td>\n      <td>98.645</td>\n      <td>98.500</td>\n      <td>98.375</td>\n      <td>98.26</td>\n      <td>98.170</td>\n      <td>98.085</td>\n      <td>98.010</td>\n      <td>97.930</td>\n      <td>97.870</td>\n      <td>97.805</td>\n      <td>97.745</td>\n      <td>97.685</td>\n      <td>97.635</td>\n      <td>97.580</td>\n      <td>97.530</td>\n      <td>97.475</td>\n    </tr>\n    <tr>\n      <th>2016-01-05</th>\n      <td>99.285</td>\n      <td>99.130</td>\n      <td>98.970</td>\n      <td>98.810</td>\n      <td>98.665</td>\n      <td>98.525</td>\n      <td>98.405</td>\n      <td>98.29</td>\n      <td>98.200</td>\n      <td>98.115</td>\n      <td>98.040</td>\n      <td>97.960</td>\n      <td>97.900</td>\n      <td>97.835</td>\n      <td>97.775</td>\n      <td>97.710</td>\n      <td>97.660</td>\n      <td>97.605</td>\n      <td>97.550</td>\n      <td>97.490</td>\n    </tr>\n    <tr>\n      <th>2016-01-06</th>\n      <td>99.300</td>\n      <td>99.160</td>\n      <td>99.020</td>\n      <td>98.870</td>\n      <td>98.735</td>\n      <td>98.600</td>\n      <td>98.480</td>\n      <td>98.37</td>\n      <td>98.290</td>\n      <td>98.210</td>\n      <td>98.135</td>\n      <td>98.060</td>\n      <td>98.000</td>\n      <td>97.935</td>\n      <td>97.875</td>\n      <td>97.810</td>\n      <td>97.755</td>\n      <td>97.700</td>\n      <td>97.645</td>\n      <td>97.585</td>\n    </tr>\n    <tr>\n      <th>2016-01-07</th>\n      <td>99.315</td>\n      <td>99.195</td>\n      <td>99.065</td>\n      <td>98.925</td>\n      <td>98.795</td>\n      <td>98.665</td>\n      <td>98.550</td>\n      <td>98.44</td>\n      <td>98.355</td>\n      <td>98.270</td>\n      <td>98.195</td>\n      <td>98.115</td>\n      <td>98.050</td>\n      <td>97.985</td>\n      <td>97.920</td>\n      <td>97.850</td>\n      <td>97.795</td>\n      <td>97.735</td>\n      <td>97.675</td>\n      <td>97.615</td>\n    </tr>\n    <tr>\n      <th>2016-01-08</th>\n      <td>99.300</td>\n      <td>99.185</td>\n      <td>99.070</td>\n      <td>98.940</td>\n      <td>98.825</td>\n      <td>98.710</td>\n      <td>98.605</td>\n      <td>98.50</td>\n      <td>98.420</td>\n      <td>98.340</td>\n      <td>98.265</td>\n      <td>98.180</td>\n      <td>98.115</td>\n      <td>98.050</td>\n      <td>97.985</td>\n      <td>97.915</td>\n      <td>97.860</td>\n      <td>97.800</td>\n      <td>97.740</td>\n      <td>97.675</td>\n    </tr>\n  </tbody>\n</table>\n</div>"
     },
     "metadata": {},
     "execution_count": 1
    }
   ],
   "source": [
    "import quandl\n",
    "import pandas as pd\n",
    "import numpy as np\n",
    "import matplotlib.pyplot as plt\n",
    "import statsmodels.api as sm\n",
    "import statsmodels.tsa.stattools as ts\n",
    "token = pd.read_csv(\"TOKEN.txt\").columns[0]\n",
    "n = range(1,21)\n",
    "nms = [\"CHRIS/CME_ED\"+str(i) for i in n]\n",
    "dfs = [quandl.get(nm, authtoken=token,start_date=\"2016-01-01\", end_date=\"2017-12-30\") for nm in nms]\n",
    "#construct settle price\n",
    "settle=dfs[0].Settle\n",
    "for i in range(1,20):\n",
    "    settle=pd.concat([settle,dfs[i].Settle],axis=1)\n",
    "settle.columns=[\"Settle_ED\"+str(i+1) for i in range(20)]\n",
    "settle=settle.ffill()\n",
    "settle.head()"
   ]
  },
  {
   "cell_type": "markdown",
   "metadata": {},
   "source": [
    "### Fit the model with initialized value"
   ]
  },
  {
   "cell_type": "code",
   "execution_count": 6,
   "metadata": {},
   "outputs": [],
   "source": [
    "#1F Short Rate Model:\n",
    "#dr(t)={mu-kappa*r(t)}*dt+vol*dW(t)\n",
    "# pt=exp(A-Br)\n",
    "class Model:\n",
    "    def __init__(self,r0,mu,vol,kappa):\n",
    "        self.r0 = r0\n",
    "        self.mu = mu\n",
    "        self.vol = vol\n",
    "        self.var = vol*vol\n",
    "        self.kappa=kappa\n",
    "        \n",
    "    def mean_r(self,t,dist='Q'): \n",
    "        m = np.exp(-self.kappa*t)*(self.r0+self.mu/self.kappa*(np.exp(kappa*t)-1))\n",
    "        #if (dist == 'F'):m -= self.var * pow(t,2)\n",
    "        return m\n",
    "    \n",
    "    def A(self,tau):\n",
    "        return (self.mu/self.kappa-self.var/(2*self.kappa**2))*(self.B(tau)-tau)-self.var*self.B(tau)**2/(4*kappa)\n",
    "\n",
    "    def B(self,tau):\n",
    "        return (1-np.e**(-self.kappa*tau))/self.kappa\n",
    "\n",
    "    def zero(self,t0,T,r_t0):\n",
    "        tau = T-t0\n",
    "        return np.exp(self.A(tau)-self.B(tau)*r_t0)\n",
    "    \n",
    "    def mean_rate(self,t_fix,T0,T1,dist='Q',accrual=0.25):\n",
    "        A_diff = self.A(T0-t_fix) - self.A(T1-t_fix)\n",
    "        B_diff = self.B(T0-t_fix) - self.B(T1-t_fix)\n",
    "        m = A_diff - B_diff * self.mean_r(t_fix,dist)\n",
    "        v = self.var *(1-np.exp(-2*self.kappa*t_fix))/(2*self.kappa) * pow(B_diff,2)\n",
    "        e = np.exp(m+v/2.)\n",
    "        return 1/accrual * (e-1),A_diff,B_diff\n",
    "    \n",
    "    def update_params(self,x):\n",
    "        self.r0=x[0]\n",
    "        self.mu=x[1]\n",
    "        self.vol=x[2]\n",
    "        self.var = pow(x[2],2)\n",
    "        self.kappa=x[3]\n"
   ]
  },
  {
   "cell_type": "code",
   "execution_count": 7,
   "metadata": {},
   "outputs": [
    {
     "data": {
      "text/plain": [
       "(0.062301233420138935, 0.0011808708862671366, -0.9516258196404048)"
      ]
     },
     "execution_count": 7,
     "metadata": {},
     "output_type": "execute_result"
    }
   ],
   "source": [
    "#test Model class:\n",
    "r0 = 0.015\n",
    "mu = 0.005\n",
    "vol = np.sqrt(0.008)\n",
    "kappa=0.1\n",
    "m = Model(r0,mu,vol,kappa)\n",
    "m.mean_rate(0,0,1)"
   ]
  },
  {
   "cell_type": "code",
   "execution_count": 37,
   "metadata": {},
   "outputs": [
    {
     "name": "stdout",
     "output_type": "stream",
     "text": [
      "The zero coupon bond price for the parameters is:  0.9846635614051481\n"
     ]
    }
   ],
   "source": [
    "#test Model class:\n",
    "r0 = 0.015\n",
    "mu = 0.005\n",
    "vol = np.sqrt(0.008)\n",
    "kappa=0.1\n",
    "m = Model(r0,mu,vol,kappa)\n",
    "\n",
    "print (\"The zero coupon bond price for the parameters is: \",m.zero(0,1,r0))\n",
    "\n",
    "x = range(1,21)\n",
    "term = [xx/4. for xx in x]\n",
    "rate_Q = [m.mean_rate(t,t,t+0.25,'Q')*100 for t in term]"
   ]
  },
  {
   "cell_type": "code",
   "execution_count": 38,
   "metadata": {},
   "outputs": [
    {
     "data": {
      "image/png": "[encoded data removed]",
      "text/plain": [
       "<Figure size 720x360 with 1 Axes>"
      ]
     },
     "metadata": {
      "needs_background": "light"
     },
     "output_type": "display_data"
    }
   ],
   "source": [
    "def plot_futures(dt,frame,x,y):\n",
    "    f = plt.figure(figsize=(10,5))\n",
    "    ax = f.add_subplot(111)\n",
    "    ax.yaxis.tick_right()  \n",
    "    crv = frame.loc[dt]\n",
    "    crv_rates = [100-z for z in crv.values]\n",
    "    plots = [plt.plot(x,crv_rates,label=dt,linestyle=\"dotted\",marker='o'),plt.plot(x,y,label='Model')]\n",
    "    plt.legend(loc='lower right')    \n",
    "    plt.show()\n",
    "    \n",
    "dt = '2017-11-27'\n",
    "plot_futures(dt,settle,term,rate_Q)\n",
    "#plot_futures(dt,df,term,rate_F)\n"
   ]
  },
  {
   "cell_type": "markdown",
   "metadata": {},
   "source": [
    "### Optimization Process"
   ]
  },
  {
   "cell_type": "code",
   "execution_count": 39,
   "metadata": {},
   "outputs": [],
   "source": [
    "from scipy.optimize import least_squares, leastsq\n",
    "\n",
    "class Fitter:\n",
    "    def __init__(self,model,fut_data,terms,dist):\n",
    "        self.model = model\n",
    "        self.data = np.array(fut_data)\n",
    "        self.terms = terms\n",
    "        self.dist = dist\n",
    "    \n",
    "    def residuals(self,x):\n",
    "        m = self.model\n",
    "        m.update_params(x)\n",
    "        rate_dist = [m.mean_rate(t,t,t+0.25,self.dist)*100 for t in self.terms]\n",
    "        return np.array(rate_dist) - self.data\n",
    "    \n",
    "    def fit(self,x0,solver='lm'):\n",
    "        return least_squares(self.residuals,x0,method=solver)\n",
    "        #return leastsq(self.residuals,x0)"
   ]
  },
  {
   "cell_type": "code",
   "execution_count": 40,
   "metadata": {},
   "outputs": [],
   "source": [
    "crv =settle.loc[dt]\n",
    "crv_rates = [100-z for z in crv.values]\n",
    "#print(crv_rates)\n",
    "f_fut = Fitter(m,crv_rates,term,'Q')"
   ]
  },
  {
   "cell_type": "code",
   "execution_count": 41,
   "metadata": {},
   "outputs": [
    {
     "name": "stdout",
     "output_type": "stream",
     "text": [
      "[-0.00639492 -0.01235264  0.22327402  0.57738818]\n"
     ]
    }
   ],
   "source": [
    "fut = f_fut.fit([0.005,0.015,0.008,0.1])\n",
    "print (fut.x)\n",
    "#jacobian:\n",
    "jac = fut.jac"
   ]
  },
  {
   "cell_type": "code",
   "execution_count": 42,
   "metadata": {},
   "outputs": [],
   "source": [
    "#[r0,mu,vol,kappa]=fut.x\n",
    "#m1= Model(r0,mu,vol,kappa)\n",
    "\n",
    "x = range(1,21)\n",
    "term = [xx/4. for xx in x]\n",
    "\n",
    "#rate_F = [m.mean_rate(t,t,t+0.25,'F')*100 for t in term]\n",
    "rate_Q = [m.mean_rate(t,t,t+0.25,'Q')*100 for t in term]\n"
   ]
  },
  {
   "cell_type": "code",
   "execution_count": 43,
   "metadata": {},
   "outputs": [
    {
     "data": {
      "image/png": "[encoded data removed]",
      "text/plain": [
       "<Figure size 720x360 with 1 Axes>"
      ]
     },
     "metadata": {
      "needs_background": "light"
     },
     "output_type": "display_data"
    }
   ],
   "source": [
    "plot_futures(dt,settle,term,rate_Q)"
   ]
  },
  {
   "cell_type": "code",
   "execution_count": 44,
   "metadata": {},
   "outputs": [
    {
     "name": "stdout",
     "output_type": "stream",
     "text": [
      "170253.03361299148\n"
     ]
    }
   ],
   "source": [
    "c = np.cov(np.transpose(jac))\n",
    "val, vec = np.linalg.eig(c)\n",
    "#Condition number:\n",
    "cn = val[0]/val[2]\n",
    "print (cn)"
   ]
  },
  {
   "cell_type": "markdown",
   "metadata": {},
   "source": [
    "After iteration using the package least_squares from scipy.optimize, after optimization, the last Jacobian matrix have serious collinearity problems according to the large Conditional Number, which would cause the problem of inversing the approximate Hessian matrix. In next part of the question we would use PCA rank reduction in every iteration in the Jacobian matrix to make it easy to be inversed."
   ]
  },
  {
   "cell_type": "markdown",
   "metadata": {},
   "source": [
    "## When $\\lambda \\neq 0$ , reason the case:"
   ]
  },
  {
   "cell_type": "markdown",
   "metadata": {},
   "source": [
    "When $\\lambda \\neq 0$, the model becomes $dr(t)=\\{\\mu-\\kappa r(t)\\}dt+\\sqrt{\\gamma r(t)+\\sigma} dW(t)$, the diffusion parameters for the process become related to the r(t) itself, which makes it not a gaussian process anymore. It's like a CIR model, the diffusion term become stochastic as well. \n",
    "\n",
    "Unlike the interest rate in the Hull-White model, the interest rate in the this model when $ \\lambda \\neq 0$ can be very hard to take negative values. When the interest rate approaches zero, the term $\\sqrt{\\gamma r(t)+\\sigma} dW(u)$ also approaches zero. With the volatility disappearing, the behavior of the interest rate near zero depends on the drift term $\\{\\mu-\\kappa r(t)\\}dt$ , and this is a > 0 when R(u) is nearly 0. The positive drift prevents the interest rate from crossing zero into negative territory.\n",
    "\n",
    "The close form of the model when  $\\lambda \\neq 0$ becomes very hard to calculate, although they no more have a simple close form like the Vasicek model we discussed above, we need to use moment-generating function to calculate the first and second  moments aka their means and variance for the model. They are still mean-reverting as before, but due to their unstable diffusion terms there are many ways to relieve the issue. Time varying functions replacing coefficients can be introduced in the model in order to make it consistent with a pre-assigned term structure of interest rates and possibly volatilities. The most general approach is in Maghsoodi (1996). A more tractable approach is in Brigo and Mercurio (2001b) where an external time-dependent shift is added to the model for consistency with an input term structure of rates."
   ]
  },
  {
   "cell_type": "markdown",
   "metadata": {},
   "source": [
    "##  If it is 2-factor model:"
   ]
  },
  {
   "cell_type": "markdown",
   "metadata": {},
   "source": [
    "In the two-factor model of this subsection, both factors are highly likely to be nonnegative at all times almost surely. We again define the interest rate by but now assume that \n",
    "\n",
    "$$r(t)=\\lambda_0 + \\lambda_1 Y_1(t) +\\lambda_2 Y_2(t)$$\n",
    "\n",
    "where $Y_i(t)$ are the canonical factors for the two factor model.The evolution of the factor processes in the canonical two-factor model is given by:\n",
    "\n",
    "$$dY_1(t)=\\{\\mu_1-\\kappa_1 r_1(t)\\}dt+\\sqrt{\\gamma_1 Y_1(t)+\\sigma_1} dW_1(t)$$\n",
    "$$dY_2(t)=\\{\\mu_2-\\kappa_2 r_2(t)\\}dt+\\sqrt{\\gamma_2 Y_2(t)+\\sigma_2} dW_2(t)$$\n",
    "\n",
    "when i=2, the two factor would have effect on the r(t) together, and the effect would be more complex and it would be very hard to get the distribution of the two-factor model. The rates would be still hard to be negative. But the mean-reverting process property would hold as well. The Brownian motions W1 (t) and W2(t) above are assumed to be independent. We do not need this assumption to guarantee nonnegativity of Y1 (t) and Y2(t) but rather to obtain the affine-yield result below."
   ]
  },
  {
   "cell_type": "markdown",
   "metadata": {},
   "source": [
    "# Problem 2"
   ]
  },
  {
   "cell_type": "code",
   "execution_count": 47,
   "metadata": {},
   "outputs": [],
   "source": [
    "import QuantLib as ql\n",
    "imm = ql.IMM()\n",
    "\n",
    "d1 = ql.Date(27,11,2017)\n",
    "M_dates=[d1]\n",
    "terms=[]\n",
    "for i in range(20):\n",
    "    dn = imm.nextDate(M_dates[-1])\n",
    "    terms.append(dn-M_dates[-1])\n",
    "    M_dates.append(dn)\n",
    "terms_new=np.array(np.cumsum(terms))/365  "
   ]
  },
  {
   "cell_type": "markdown",
   "metadata": {},
   "source": [
    "I need to use it to determine the accurate maturity date in the model. Because in last question we olny use the list of [0.25 0.5 0.75....] as our maturity length. Professor in the class could use this is simplly because the first day is just a maturity date so the gap between the first day and second maturity date is 0.25 of the year which is 3 month. But in this case, the terms become something new because the first day is \"11/27/2017\", so the gap is no longer the 3 month. \n",
    "\n",
    "To make the result accurate, we need to recalibrate the gaps between term in the problems and recalculate the term structure in the TSM model. The new terms I calculated is below:"
   ]
  },
  {
   "cell_type": "code",
   "execution_count": 48,
   "metadata": {},
   "outputs": [
    {
     "data": {
      "text/plain": [
       "array([0.0630137 , 0.31232877, 0.56164384, 0.8109589 , 1.06027397,\n",
       "       1.30958904, 1.55890411, 1.80821918, 2.05753425, 2.30684932,\n",
       "       2.55616438, 2.80547945, 3.05479452, 3.30410959, 3.55342466,\n",
       "       3.80273973, 4.05205479, 4.30136986, 4.55068493, 4.81917808])"
      ]
     },
     "execution_count": 48,
     "metadata": {},
     "output_type": "execute_result"
    }
   ],
   "source": [
    "terms_new"
   ]
  },
  {
   "cell_type": "markdown",
   "metadata": {},
   "source": [
    "## The Model A: TSM\n",
    "\n",
    "Use the new terms to recalculate it:"
   ]
  },
  {
   "cell_type": "markdown",
   "metadata": {},
   "source": []
  },
  {
   "cell_type": "code",
   "execution_count": 53,
   "metadata": {},
   "outputs": [],
   "source": [
    "#test Model class:\n",
    "r0 = 0.015\n",
    "mu = 0.005\n",
    "vol = np.sqrt(0.008)\n",
    "kappa=0.1\n",
    "m = Model(r0,mu,vol,kappa)\n",
    "\n",
    "x = range(1,21)\n",
    "term = [xx/4. for xx in x]\n",
    "#rate_F = [m.mean_rate(t,t,t+0.25,'F')*100 for t in term]\n",
    "#rate_Q = [m.mean_rate(t,t,t+0.25,'Q')*100 for t in term]\n",
    "rate_Q = [m.mean_rate(terms_new[t],terms_new[t],terms_new[t]+0.25,'Q')*100 for t in range(20)]\n"
   ]
  },
  {
   "cell_type": "code",
   "execution_count": 58,
   "metadata": {},
   "outputs": [
    {
     "data": {
      "image/png": "[encoded data removed]",
      "text/plain": [
       "<Figure size 720x360 with 1 Axes>"
      ]
     },
     "metadata": {
      "needs_background": "light"
     },
     "output_type": "display_data"
    }
   ],
   "source": [
    "   \n",
    "dt = '2017-11-27'\n",
    "plot_futures(dt,settle,term,rate_Q)\n",
    "#plot_futures(dt,df,term,rate_F)"
   ]
  },
  {
   "cell_type": "code",
   "execution_count": 59,
   "metadata": {},
   "outputs": [],
   "source": [
    "crv =settle.loc[dt]\n",
    "crv_rates = [100-z for z in crv.values]\n",
    "#print(crv_rates)\n",
    "# The optimization of the parameters\n",
    "f_fut = Fitter(m,crv_rates,terms_new,'Q')\n",
    "fut = f_fut.fit([0.005,0.015,0.008,0.1])\n",
    "x = range(1,21)\n",
    "\n",
    "#rate_F = [m.mean_rate(t,t,t+0.25,'F')*100 for t in term]\n",
    "rate_Q = [m.mean_rate(t,t,t+0.25,'Q')*100 for t in terms_new]"
   ]
  },
  {
   "cell_type": "code",
   "execution_count": 61,
   "metadata": {},
   "outputs": [
    {
     "data": {
      "image/png": "[encoded data removed]",
      "text/plain": [
       "<Figure size 720x360 with 1 Axes>"
      ]
     },
     "metadata": {
      "needs_background": "light"
     },
     "output_type": "display_data"
    }
   ],
   "source": [
    "dt = '2017-11-27'\n",
    "plot_futures(dt,settle,terms_new,rate_Q)"
   ]
  },
  {
   "cell_type": "markdown",
   "metadata": {},
   "source": [
    "The updated parameters in TSM model is:"
   ]
  },
  {
   "cell_type": "code",
   "execution_count": 64,
   "metadata": {},
   "outputs": [
    {
     "name": "stdout",
     "output_type": "stream",
     "text": [
      "[-0.005355801273982326, -0.014852653801022481, 0.22530304362708176, 0.5938729543932019]\n"
     ]
    }
   ],
   "source": [
    "updated_paras=[m.r0 ,m.mu ,m.vol ,m.kappa]\n",
    "print(updated_paras)"
   ]
  },
  {
   "cell_type": "markdown",
   "metadata": {},
   "source": [
    "## The Model B: DNS"
   ]
  },
  {
   "cell_type": "code",
   "execution_count": 65,
   "metadata": {
    "scrolled": true
   },
   "outputs": [
    {
     "data": {
      "text/plain": [
       "array([0.0630137 , 0.31232877, 0.56164384, 0.8109589 , 1.06027397,\n",
       "       1.30958904, 1.55890411, 1.80821918, 2.05753425, 2.30684932,\n",
       "       2.55616438, 2.80547945, 3.05479452, 3.30410959, 3.55342466,\n",
       "       3.80273973, 4.05205479, 4.30136986, 4.55068493, 4.81917808])"
      ]
     },
     "execution_count": 65,
     "metadata": {},
     "output_type": "execute_result"
    }
   ],
   "source": [
    "terms_new"
   ]
  },
  {
   "cell_type": "code",
   "execution_count": 66,
   "metadata": {},
   "outputs": [],
   "source": [
    "def betas(lamb,dfs):\n",
    "    #set the parameters\n",
    "    Betas=[]\n",
    "    Resids=[]\n",
    "    t=terms_new*12\n",
    "    fac1=(1-np.e**(-lamb*t))/(lamb*t)\n",
    "    fac2=fac1-np.e**(-lamb*t)\n",
    "    #\n",
    "    for i in range(len(dfs)):\n",
    "        Y = dfs.iloc[i,:]\n",
    "        X=np.concatenate(([fac1],[fac2]),axis=0).T\n",
    "        X = sm.add_constant(X)\n",
    "        model=sm.OLS(Y,X)\n",
    "        result=model.fit()\n",
    "\n",
    "        Resids.append(result.resid.tolist())\n",
    "        Betas.append(result.params.tolist())\n",
    "    return Betas,Resids"
   ]
  },
  {
   "cell_type": "code",
   "execution_count": 67,
   "metadata": {},
   "outputs": [
    {
     "data": {
      "text/plain": [
       "[2.4105861997922835, -0.7407670902377568, -1.489565847908164]"
      ]
     },
     "execution_count": 67,
     "metadata": {},
     "output_type": "execute_result"
    }
   ],
   "source": [
    "data=pd.DataFrame(100-settle.loc[dt,:])\n",
    "dfs=data.T\n",
    "lamb=0.5\n",
    "Betas=betas(lamb,dfs)[0][0]\n",
    "Betas"
   ]
  },
  {
   "cell_type": "code",
   "execution_count": 68,
   "metadata": {},
   "outputs": [],
   "source": [
    "def rmses(lamb,dfs):\n",
    "    _,resid=betas(lamb,dfs)\n",
    "    Resids=np.array(resid)\n",
    "    rmses=np.sqrt(np.sum((Resids**2)/Resids.shape[1],axis=1))\n",
    "    #print(Resids.shape[1])\n",
    "    return rmses"
   ]
  },
  {
   "cell_type": "code",
   "execution_count": 69,
   "metadata": {},
   "outputs": [
    {
     "name": "stdout",
     "output_type": "stream",
     "text": [
      "rmse reduces to 0.08359093662386664\n",
      "rmse reduces to 0.08346899665591094\n",
      "rmse reduces to 0.07974365150506835\n",
      "rmse reduces to 0.06489264551530217\n",
      "rmse reduces to 0.044899892958696376\n",
      "rmse reduces to 0.030392546547712212\n",
      "rmse reduces to 0.027165485427520397\n",
      "rmse reduces to 0.027578246173269618\n",
      "rmse reduces to 0.02692490654015115\n",
      "rmse reduces to 0.02691127688577977\n",
      "rmse reduces to 0.02688749830173185\n",
      "rmse reduces to 0.026891382987209462\n",
      "rmse reduces to 0.026887484400693072\n",
      "The optimal estimated lambda is: 0.09315386962890623\n"
     ]
    }
   ],
   "source": [
    "# Use bisection to find optimal lambda\n",
    "ebs=0.0001\n",
    "left=0.001\n",
    "right=10\n",
    "lamb=(left+right)/2\n",
    "\n",
    "while abs(left-lamb)>0.001:\n",
    "\n",
    "    resid_sum=sum(rmses(lamb,dfs))\n",
    "    if resid_sum>sum(rmses(lamb+ebs,dfs)):\n",
    "        left=lamb\n",
    "    else:\n",
    "        right=lamb\n",
    "        \n",
    "    lamb=(left+right)/2\n",
    "    print('rmse reduces to {}'.format(resid_sum))\n",
    "        \n",
    "print(\"The optimal estimated lambda is: \"+str(lamb))\n",
    "Optimal_lambda=lamb"
   ]
  },
  {
   "cell_type": "code",
   "execution_count": 70,
   "metadata": {},
   "outputs": [
    {
     "data": {
      "text/plain": [
       "[2.589667297999939, -1.0304438001074931, -4.815796994894761e-05]"
      ]
     },
     "execution_count": 70,
     "metadata": {},
     "output_type": "execute_result"
    }
   ],
   "source": [
    "lamb=Optimal_lambda\n",
    "Betas=betas(lamb,dfs)[0][0]\n",
    "Betas"
   ]
  },
  {
   "cell_type": "code",
   "execution_count": 71,
   "metadata": {},
   "outputs": [],
   "source": [
    "t=terms_new*12\n",
    "fac1=(1-np.e**(-lamb*t))/(lamb*t)\n",
    "fac2=fac1-np.e**(-lamb*t)\n",
    "X=np.concatenate(([fac1],[fac2]),axis=0).T\n",
    "X = sm.add_constant(X)\n",
    "y_model=X.dot(Betas)"
   ]
  },
  {
   "cell_type": "code",
   "execution_count": 72,
   "metadata": {},
   "outputs": [
    {
     "data": {
      "image/png": "[encoded data removed]",
      "text/plain": [
       "<Figure size 720x360 with 1 Axes>"
      ]
     },
     "metadata": {
      "needs_background": "light"
     },
     "output_type": "display_data"
    }
   ],
   "source": [
    " def plot_futures(dt,frame,x,y):\n",
    "    f = plt.figure(figsize=(10,5))\n",
    "    ax = f.add_subplot(111)\n",
    "    ax.yaxis.tick_right()  \n",
    "    crv = frame.loc[dt]\n",
    "    crv_rates = [100-z for z in crv.values]\n",
    "    plots = [plt.plot(x,crv_rates,label=dt,linestyle=\"dotted\",marker='o'),plt.plot(x,y,label='Model')]\n",
    "    plt.legend(loc='lower right')    \n",
    "    plt.show()\n",
    "    \n",
    "dt = '2017-11-27'\n",
    "plot_futures(dt,settle,terms_new,y_model)"
   ]
  },
  {
   "cell_type": "markdown",
   "metadata": {},
   "source": [
    "The updated parameters in TSM model is:"
   ]
  },
  {
   "cell_type": "markdown",
   "metadata": {},
   "source": [
    "The optimal estimated lambda is: 0.0931 and the betas are [2.589667297999939, -1.0304438001074931, -4.815796994894761e-05] The model have a very nice fit to the term structure."
   ]
  },
  {
   "cell_type": "markdown",
   "metadata": {},
   "source": [
    "## Colinearity check"
   ]
  },
  {
   "cell_type": "markdown",
   "metadata": {},
   "source": [
    "### TSM collinearity check with PCA"
   ]
  },
  {
   "cell_type": "markdown",
   "metadata": {},
   "source": [
    "In the new optimization function, at each iteration there would be a PCA rank reduction process. To make approximate Hessian matrix more easy to be inverse, use PCA to reduce the collinearity every time in the Gaussian-Newtown optimization.\n",
    "\n",
    "$$ P^{k+1}=P^{k}-H^{-1}g$$\n",
    "\n",
    "But the Hessian matrix would be too expensive to calculate, so we use the following form to approach it.\n",
    "\n",
    "The problem we see before is the collinearity, it is the same here with Jacobian matrix, we use PCA rank reduction to reduce the regression\n",
    "\n",
    "\n",
    "\n",
    "$$P^{k+1}=P^{k}-(J_e.T*J)^-1 J_e*e$$\n",
    "\n",
    "\n",
    "The code see below use the new function myfit() as the member function in the Fitter class:"
   ]
  },
  {
   "cell_type": "code",
   "execution_count": 81,
   "metadata": {},
   "outputs": [],
   "source": [
    "from scipy.optimize import least_squares, leastsq\n",
    "\n",
    "class Fitter:\n",
    "    def __init__(self,model,fut_data,terms,dist):\n",
    "        self.model = model\n",
    "        self.data = np.array(fut_data)\n",
    "        self.terms = terms\n",
    "        self.dist = dist\n",
    "    \n",
    "    def residuals(self,x):\n",
    "        m = self.model\n",
    "        m.update_params(x)\n",
    "        rate_dist = [m.mean_rate(t,t,t+0.25,self.dist)*100 for t in self.terms]\n",
    "        return np.array(rate_dist) - self.data\n",
    "    \n",
    "    def fit(self,x0,solver='lm'):\n",
    "        return least_squares(self.residuals,x0,method=solver)\n",
    "        #return leastsq(self.residuals,x0)\n",
    "        \n",
    "        \n",
    "    def myfit(self, x0, condition_value=100):\n",
    "        \n",
    "        tol=1e-11\n",
    "        dt=1e-10 #diff for numerical Jacobian estimation\n",
    "        max_iter=int(1e4)\n",
    "        # the parameters initialization\n",
    "        \n",
    "        \n",
    "        func=self.residuals\n",
    "        resid = func(x0) # to measure output shape\n",
    "        x0_dim = len(x0)\n",
    "        jac_mat = np.zeros((len(resid), x0_dim))\n",
    "        x1 = x0.copy() # only for starting point\n",
    "\n",
    "        eig_val_s = None # to report collinearity\n",
    "\n",
    "        while eig_val_s is None or (np.sum(np.abs(x1 - x0)) > tol and max_iter > 0):\n",
    "            x0 = x1 # move forward\n",
    "\n",
    "            resid = func(x0)\n",
    "\n",
    "            # numerical Jacobian estimation\n",
    "            for idx in range(x0_dim):\n",
    "                this_x = x0.copy()\n",
    "\n",
    "                this_x[idx] += dt\n",
    "                jac_mat[:, idx] = func(this_x)\n",
    "                this_x[idx] -= 2 * dt\n",
    "                jac_mat[:, idx] -= func(this_x)\n",
    "                jac_mat[:, idx] /= 2 * dt\n",
    "\n",
    "            hessien_proxy = jac_mat.T @ jac_mat\n",
    "\n",
    "            eig_val, eig_vec = np.linalg.eig(hessien_proxy)\n",
    "            # notice that eig_val may not be sorted, do it manually \n",
    "            order = np.argsort(-eig_val) # from large to small\n",
    "            eig_val = eig_val[order]\n",
    "            eig_vec = eig_vec[:, order]\n",
    "\n",
    "            # check collinearity\n",
    "            last_idx = x0_dim - 1\n",
    "            while (eig_val[0] / eig_val[last_idx]) > condition_value:\n",
    "                last_idx -= 1\n",
    "\n",
    "            eig_val_s = eig_val[:last_idx + 1]\n",
    "\n",
    "            E0 = eig_vec[:, :last_idx + 1]\n",
    "            hessien_proxy_inv = (E0 / eig_val[:last_idx+1]) @ E0.T \n",
    "\n",
    "            x1 = x0 - hessien_proxy_inv @ jac_mat.T @ resid\n",
    "\n",
    "            max_iter -= 1\n",
    "\n",
    "        return x1, eig_val_s"
   ]
  },
  {
   "cell_type": "code",
   "execution_count": 82,
   "metadata": {},
   "outputs": [
    {
     "data": {
      "image/png": "[encoded data removed]",
      "text/plain": [
       "<Figure size 720x360 with 1 Axes>"
      ]
     },
     "metadata": {
      "needs_background": "light"
     },
     "output_type": "display_data"
    }
   ],
   "source": [
    "# The optimization of the parameters\n",
    "#test Model class:\n",
    "r0 = 0.015\n",
    "mu = 0.005\n",
    "vol = np.sqrt(0.008)\n",
    "kappa=0.1\n",
    "m = Model(r0,mu,vol,kappa)\n",
    "#print (m.zero(0,1,r0))\n",
    "x = range(1,21)\n",
    "term = [xx/4. for xx in x]\n",
    "rate_Q = [m.mean_rate(t,t,t+0.25,'Q')*100 for t in term]\n",
    "\n",
    "plot_futures(dt,settle,terms_new,rate_Q)"
   ]
  },
  {
   "cell_type": "markdown",
   "metadata": {},
   "source": [
    "### In the new optimization function, at each iteration there would be a PCA rank reduction process. To make approximate Hessian matrix more easy to be inverse, use PCA to reduce the collinearity every time in the Gaussian-Newtown optimization"
   ]
  },
  {
   "cell_type": "code",
   "execution_count": 83,
   "metadata": {},
   "outputs": [],
   "source": [
    "f_fut = Fitter(m,crv_rates,terms_new,'Q')\n",
    "\n",
    "best_para,jac_eigval = f_fut.myfit([0.005,0.015,0.008,0.1])"
   ]
  },
  {
   "cell_type": "code",
   "execution_count": 84,
   "metadata": {},
   "outputs": [
    {
     "data": {
      "image/png": "[encoded data removed]",
      "text/plain": [
       "<Figure size 720x360 with 1 Axes>"
      ]
     },
     "metadata": {
      "needs_background": "light"
     },
     "output_type": "display_data"
    }
   ],
   "source": [
    "x = range(1,21)\n",
    "#rate_F = [m.mean_rate(t,t,t+0.25,'F')*100 for t in term]\n",
    "rate_Q = [m.mean_rate(t,t,t+0.25,'Q')*100 for t in terms_new]\n",
    "crv_rates\n",
    "plot_futures(dt,settle,terms_new,rate_Q)"
   ]
  },
  {
   "cell_type": "code",
   "execution_count": 85,
   "metadata": {},
   "outputs": [
    {
     "name": "stdout",
     "output_type": "stream",
     "text": [
      "[0.01713205661742883, 0.003916079767493065, 0.007981384338351027, 0.10332927963711117]\n"
     ]
    }
   ],
   "source": [
    "updated_paras=[m.r0 ,m.mu ,m.vol ,m.kappa]\n",
    "print(updated_paras)"
   ]
  },
  {
   "cell_type": "markdown",
   "metadata": {},
   "source": [
    "The parameters are updated as above. Since the PCA solved the matrix inverse problem, it surely lost some information inside, so the model fit is no longer as good looking as before. But the calculation for the newtown opitimization is for sure faster and stabler. It is a trade off between stablization and information integraty, which happens all the time."
   ]
  },
  {
   "cell_type": "markdown",
   "metadata": {},
   "source": [
    "### DNS Collinearity check with Ridge Regression"
   ]
  },
  {
   "cell_type": "markdown",
   "metadata": {},
   "source": [
    "Search k from 0 (ordinary OLS) to 10; at each k, we grid search lambda from 0.01 to 10, to find a best fit of the Beta and the smallest residuals, then use the optimal lambda to generate the X in the DNS function\n",
    "\n",
    "$$y=\\beta_0+\\beta1*X_1+\\beta2*X_2$$\n",
    "\n",
    "Then check if the condition value larger than a certain level, if CN larger than a threshold, we determine that collinearity exists. In that paper, they set CN as 10. First we use ordinary OLS (k=0), See the CN of the X from optimal lambda. and see if we get a good k, if not we carry on untill we got one."
   ]
  },
  {
   "cell_type": "code",
   "execution_count": 113,
   "metadata": {},
   "outputs": [
    {
     "name": "stdout",
     "output_type": "stream",
     "text": [
      "The CN from the best lambda when k=0 are 15.350240103159786\n"
     ]
    }
   ],
   "source": [
    "k=0\n",
    "from sklearn.linear_model import Ridge\n",
    "for lamd in np.arange(0.01,10,100):\n",
    "\n",
    "    fac1=(1-np.e**(-lamb*t))/(lamb*t)\n",
    "    fac2=fac1-np.e**(-lamb*t)\n",
    "    X=np.concatenate(([fac1],[fac2]),axis=0).T\n",
    "    #X = sm.add_constant(X)\n",
    "    y=dfs.values.T\n",
    "\n",
    "    clf = Ridge(alpha=k)\n",
    "    clf.fit(X, y) \n",
    "\n",
    "    resid=sum((y-clf.predict(X)).reshape(-1))\n",
    "\n",
    "    if resid<min_resid:\n",
    "        min_resid=resid\n",
    "        opt_lamb=lamb\n",
    "\n",
    "lamb=opt_lamb\n",
    "t=terms_new*12\n",
    "fac1=(1-np.e**(-lamb*t))/(lamb*t)\n",
    "fac2=fac1-np.e**(-lamb*t)\n",
    "X=np.concatenate(([fac1],[fac2]),axis=0).T\n",
    "\n",
    "X_cov=np.cov(X.T)\n",
    "eigval,eigvec=np.linalg.eig(X_cov)\n",
    "\n",
    "CN_0=max(eigval)/min(eigval)\n",
    "\n",
    "print(\"The CN from the best lambda when k=0 are\",CN_0)"
   ]
  },
  {
   "cell_type": "markdown",
   "metadata": {},
   "source": [
    "CN seems small enough, the value is 15.35, then we want to make sure it is for sure no colinearity problem:\n",
    "\n",
    "Then we iterate from k=0 to k=50, step by 0.01, overall 50000 times iteration only for k:"
   ]
  },
  {
   "cell_type": "code",
   "execution_count": 114,
   "metadata": {},
   "outputs": [
    {
     "name": "stdout",
     "output_type": "stream",
     "text": [
      "The parameters are: 49999.0 0.09315386962890623 0.001 15.350240103159786\n"
     ]
    }
   ],
   "source": [
    "from sklearn.linear_model import Ridge\n",
    "min_resid=np.inf # initialize a minimum residuals\n",
    "condition_v=CN_0+1 # initialize a conditional value\n",
    "largecount=5e+4 # large \n",
    "t=terms_new*12\n",
    "k=0 # Start here when it is a OLS problem\n",
    "# for k in np.linspace(0,0.05,6):\n",
    "while condition_v>CN_0 and largecount>0:\n",
    "    \n",
    "    \n",
    "    for lamd in np.arange(0.01,10,100):\n",
    "\n",
    "\n",
    "        fac1=(1-np.e**(-lamb*t))/(lamb*t)\n",
    "        fac2=fac1-np.e**(-lamb*t)\n",
    "        X=np.concatenate(([fac1],[fac2]),axis=0).T\n",
    "        #X = sm.add_constant(X)\n",
    "        y=dfs.values.T\n",
    "\n",
    "        clf = Ridge(alpha=k,fit_intercept=False)\n",
    "        clf.fit(X, y) \n",
    "\n",
    "        resid=sum((y-clf.predict(X)).reshape(-1))\n",
    "\n",
    "        if resid<min_resid:\n",
    "            min_resid=resid\n",
    "            opt_lamb=lamb\n",
    "\n",
    "    lamb=opt_lamb\n",
    "    fac1=(1-np.e**(-lamb*t))/(lamb*t)\n",
    "    fac2=fac1-np.e**(-lamb*t)\n",
    "    X=np.concatenate(([fac1],[fac2]),axis=0).T\n",
    "    \n",
    "    X_cov=np.cov(X.T)\n",
    "    eigval,eigvec=np.linalg.eig(X_cov)\n",
    "\n",
    "    condition_v=max(eigval)/min(eigval)\n",
    "        #print(condition_v)\n",
    "    largecount-=1\n",
    "    k+=0.001\n",
    "\n",
    "print('The parameters are:', largecount,opt_lamb,k,condition_v)\n"
   ]
  },
  {
   "cell_type": "markdown",
   "metadata": {},
   "source": [
    "After 50000 iteration from k=0 to k=10, there is no decrease in CN, we could safely conclude that there should be no collinearity problem under Ridge Regression check.\n",
    "\n",
    "So the graph is the same with the OLS DNS problem we did before:"
   ]
  },
  {
   "cell_type": "code",
   "execution_count": 116,
   "metadata": {},
   "outputs": [
    {
     "data": {
      "image/png": "[encoded data removed]",
      "text/plain": [
       "<Figure size 720x360 with 1 Axes>"
      ]
     },
     "metadata": {
      "needs_background": "light"
     },
     "output_type": "display_data"
    }
   ],
   "source": [
    "dt = '2017-11-27'\n",
    "plot_futures(dt,settle,terms_new,y_model)"
   ]
  },
  {
   "cell_type": "markdown",
   "metadata": {},
   "source": [
    "## Explain my work:\n",
    "\n",
    "### For TSM:\n",
    "\n",
    "In the new optimization function, at each iteration there would be a PCA rank reduction process. To make approximate Hessian matrix more easy to be inverse, use PCA to reduce the collinearity every time in the Gaussian-Newtown optimization.\n",
    "\n",
    "$$ P^{k+1}=P^{k}-H^{-1}g$$\n",
    "\n",
    "But the Hessian matrix would be too expensive to calculate, so we use the following form to approach it.\n",
    "\n",
    "The problem we see before is the collinearity, it is the same here with Jacobian matrix, we use PCA rank reduction to reduce the regression\n",
    "\n",
    "\n",
    "\n",
    "$$P^{k+1}=P^{k}-(J_e.T*J)^-1 J_e*e$$\n",
    "\n",
    "\n",
    "The parameters are updated as above. Since the PCA solved the matrix inverse problem, it surely lost some information inside, so the model fit is no longer as good looking as before. But the calculation for the newtown opitimization is for sure faster and stabler. It is a trade off between stablization and information integraty, which happens all the time.\n",
    "\n",
    "\n",
    "### For DNS:\n",
    "\n",
    "Search k from 0 (ordinary OLS) to 10; at each k, we grid search lambda from 0.01 to 10, to find a best fit of the Beta and the smallest residuals, then use the optimal lambda to generate the X in the DNS function\n",
    "\n",
    "$$y=\\beta_0+\\beta1*X_1+\\beta2*X_2$$\n",
    "\n",
    "Then check if the condition value $$CN=\\frac{max(EigenValue(Cov(X))}{min(EigenValue(Cov(X))}$$ defined by [Jan Annaert. 2012],\n",
    "\n",
    "If CN larger than a threshold, we determine that collinearity exists. In that paper, they set CN as 10.\n",
    "\n",
    "First we use ordinary OLS (k=0), See the CN of the X from optimal lambda.\n",
    "\n",
    "\n",
    "The CN of this is very close to the threshold (10) in the paper we mentioned before, to make sure if there is absolutely no collinearity problem, I still need to search from k=0 to k=10. If there is decrease in CN with increasing the panelty k in Ridge Regression, we could conclude that there is still collinearity problem and we should use Ridge Regression, if there is no decrease in CN, we say it is not necessary to use panelty k hence there is no colinearity in this problem."
   ]
  },
  {
   "cell_type": "code",
   "execution_count": null,
   "metadata": {},
   "outputs": [],
   "source": []
  }
 ],
 "metadata": {
  "kernelspec": {
   "display_name": "Python 3",
   "language": "python",
   "name": "python3"
  },
  "language_info": {
   "codemirror_mode": {
    "name": "ipython",
    "version": 3
   },
   "file_extension": ".py",
   "mimetype": "text/x-python",
   "name": "python",
   "nbconvert_exporter": "python",
   "pygments_lexer": "ipython3",
   "version": "3.7.3-final"
  },
  "toc": {
   "base_numbering": 1,
   "nav_menu": {},
   "number_sections": true,
   "sideBar": true,
   "skip_h1_title": false,
   "title_cell": "Table of Contents",
   "title_sidebar": "Contents",
   "toc_cell": false,
   "toc_position": {},
   "toc_section_display": true,
   "toc_window_display": true
  }
 },
 "nbformat": 4,
 "nbformat_minor": 1
}