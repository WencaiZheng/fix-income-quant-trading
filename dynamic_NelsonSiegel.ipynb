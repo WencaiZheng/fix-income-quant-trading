{
 "cells": [
  {
   "cell_type": "markdown",
   "metadata": {},
   "source": [
    "# Estimate the parameters for dynamic Nelson Siegel model\n",
    "\n",
    "## Import data"
   ]
  },
  {
   "cell_type": "code",
   "execution_count": 1,
   "metadata": {},
   "outputs": [],
   "source": [
    "import pandas as pd\n",
    "import numpy as np\n",
    "import statsmodels.api as sm\n",
    "dfs=pd.read_csv(\"data\\\\CMT_Rates.csv\",index_col=0)[\"12/1/3\":\"15/12/31\"]"
   ]
  },
  {
   "cell_type": "code",
   "execution_count": 2,
   "metadata": {},
   "outputs": [
    {
     "output_type": "execute_result",
     "data": {
      "text/plain": "Index(['1 MO', '3 MO', '6 MO', '1 YR', '2 YR', '3 YR', '5 YR', '7 YR', '10 YR',\n       '20 YR', '30 YR'],\n      dtype='object')"
     },
     "metadata": {},
     "execution_count": 2
    }
   ],
   "source": [
    "dfs.columns"
   ]
  },
  {
   "cell_type": "markdown",
   "metadata": {},
   "source": [
    "## Estimate the betas"
   ]
  },
  {
   "cell_type": "code",
   "execution_count": 3,
   "metadata": {},
   "outputs": [],
   "source": [
    "def betas(lamb):\n",
    "    #set the parameters\n",
    "    Betas=[]\n",
    "    Resids=[]\n",
    "    resid=0\n",
    "    t=np.array([1/12,3/12,6/12,1,2,3,5,7,10,20,30])*12\n",
    "    fac1=(1-np.e**(-lamb*t))/(lamb*t)\n",
    "    fac2=fac1-np.e**(-lamb*t)\n",
    "    #\n",
    "    for i in range(len(dfs)):\n",
    "        Y = dfs.iloc[i,:]\n",
    "        X=np.concatenate(([fac1],[fac2]),axis=0).T\n",
    "        X = sm.add_constant(X)\n",
    "        model=sm.OLS(Y,X)\n",
    "        result=model.fit()\n",
    "\n",
    "        Resids.append(result.resid.tolist())\n",
    "        Betas.append(result.params.tolist())\n",
    "    return Betas,Resids"
   ]
  },
  {
   "cell_type": "code",
   "execution_count": 4,
   "metadata": {},
   "outputs": [
    {
     "output_type": "execute_result",
     "data": {
      "text/plain": "[[3.3030696890948334, -3.139657953742664, -4.761533708303068],\n [3.361672631560115, -3.19218856618238, -4.89571321599759],\n [3.3939359436779455, -3.2183490003616058, -4.964565008914599],\n [3.3457449872588585, -3.169256041749876, -4.9232136098315795],\n [3.3458046766504426, -3.1750302535963755, -4.939635033900995]]"
     },
     "metadata": {},
     "execution_count": 4
    }
   ],
   "source": [
    "lamb=0.05\n",
    "Betas,Resid=betas(lamb)\n",
    "Betas[0:5]"
   ]
  },
  {
   "cell_type": "markdown",
   "metadata": {},
   "source": [
    "## Estimate the lambda\n",
    "\n",
    "Calculate the rmse"
   ]
  },
  {
   "cell_type": "code",
   "execution_count": 5,
   "metadata": {},
   "outputs": [],
   "source": [
    "def rmses(lamb):\n",
    "    _,resid=betas(lamb)\n",
    "    Resids=np.array(resid)\n",
    "    rmses=np.sqrt(np.sum((Resids**2)/Resids.shape[1],axis=1))\n",
    "    #print(Resids.shape[1])\n",
    "    return rmses"
   ]
  },
  {
   "cell_type": "code",
   "execution_count": 6,
   "metadata": {},
   "outputs": [
    {
     "output_type": "stream",
     "name": "stdout",
     "text": "rmse reduces to 802.6461113783082\nrmse reduces to 800.0638047697244\nrmse reduces to 772.8793215782033\nrmse reduces to 694.7587435579632\nrmse reduces to 562.7003749090593\nrmse reduces to 375.2950627142752\nrmse reduces to 170.78763753488238\nrmse reduces to 72.44656375419154\nrmse reduces to 97.84683457561887\nrmse reduces to 76.98103619720398\nrmse reduces to 72.43453816274115\nrmse reduces to 72.02932133408056\nrmse reduces to 72.10946588735865\nThe optimal estimated lambda is: 0.03700714111328125\n"
    }
   ],
   "source": [
    "# Use bisection to find optimal lambda\n",
    "ebs=0.0001\n",
    "left=0.001\n",
    "right=10\n",
    "lamb=(left+right)/2\n",
    "\n",
    "while abs(left-lamb)>0.001:\n",
    "\n",
    "    resid_sum=sum(rmses(lamb))\n",
    "    if resid_sum>sum(rmses(lamb+ebs)):\n",
    "        left=lamb\n",
    "    else:\n",
    "        right=lamb\n",
    "        \n",
    "    lamb=(left+right)/2\n",
    "    print('rmse reduces to {}'.format(resid_sum))\n",
    "        \n",
    "print(\"The optimal estimated lambda is: \"+str(lamb))\n",
    "Optimal_lambda=lamb"
   ]
  },
  {
   "cell_type": "markdown",
   "metadata": {},
   "source": [
    "# Prediction on Nelson-Siegel Model\n",
    "\n",
    "## Top 20 RMSE"
   ]
  },
  {
   "cell_type": "code",
   "execution_count": 7,
   "metadata": {},
   "outputs": [],
   "source": [
    "Opt_lambda=Optimal_lambda\n",
    "Rrmses=pd.DataFrame(rmses(Opt_lambda))\n",
    "Betas,_=betas(Opt_lambda)\n",
    "Betas=pd.DataFrame(Betas)"
   ]
  },
  {
   "cell_type": "code",
   "execution_count": 8,
   "metadata": {},
   "outputs": [],
   "source": [
    "results=pd.concat([Betas,Rrmses],axis=1)\n",
    "results.columns=[\"beta1\",\"beta2\",\"beta3\",\"rmse\"]"
   ]
  },
  {
   "cell_type": "code",
   "execution_count": 9,
   "metadata": {},
   "outputs": [
    {
     "data": {
      "text/html": [
       "<div>\n",
       "<style scoped>\n",
       "    .dataframe tbody tr th:only-of-type {\n",
       "        vertical-align: middle;\n",
       "    }\n",
       "\n",
       "    .dataframe tbody tr th {\n",
       "        vertical-align: top;\n",
       "    }\n",
       "\n",
       "    .dataframe thead th {\n",
       "        text-align: right;\n",
       "    }\n",
       "</style>\n",
       "<table border=\"1\" class=\"dataframe\">\n",
       "  <thead>\n",
       "    <tr style=\"text-align: right;\">\n",
       "      <th></th>\n",
       "      <th>beta1</th>\n",
       "      <th>beta2</th>\n",
       "      <th>beta3</th>\n",
       "      <th>rmse</th>\n",
       "    </tr>\n",
       "  </thead>\n",
       "  <tbody>\n",
       "    <tr>\n",
       "      <th>499</th>\n",
       "      <td>4.773557</td>\n",
       "      <td>-4.832017</td>\n",
       "      <td>-3.992850</td>\n",
       "      <td>0.132366</td>\n",
       "    </tr>\n",
       "    <tr>\n",
       "      <th>495</th>\n",
       "      <td>4.688799</td>\n",
       "      <td>-4.751083</td>\n",
       "      <td>-3.850718</td>\n",
       "      <td>0.127781</td>\n",
       "    </tr>\n",
       "    <tr>\n",
       "      <th>497</th>\n",
       "      <td>4.741371</td>\n",
       "      <td>-4.804284</td>\n",
       "      <td>-3.927889</td>\n",
       "      <td>0.127384</td>\n",
       "    </tr>\n",
       "    <tr>\n",
       "      <th>500</th>\n",
       "      <td>4.722909</td>\n",
       "      <td>-4.778427</td>\n",
       "      <td>-3.977851</td>\n",
       "      <td>0.126508</td>\n",
       "    </tr>\n",
       "    <tr>\n",
       "      <th>498</th>\n",
       "      <td>4.696110</td>\n",
       "      <td>-4.749588</td>\n",
       "      <td>-3.938016</td>\n",
       "      <td>0.125187</td>\n",
       "    </tr>\n",
       "  </tbody>\n",
       "</table>\n",
       "</div>"
      ],
      "text/plain": [
       "        beta1     beta2     beta3      rmse\n",
       "499  4.773557 -4.832017 -3.992850  0.132366\n",
       "495  4.688799 -4.751083 -3.850718  0.127781\n",
       "497  4.741371 -4.804284 -3.927889  0.127384\n",
       "500  4.722909 -4.778427 -3.977851  0.126508\n",
       "498  4.696110 -4.749588 -3.938016  0.125187"
      ]
     },
     "execution_count": 9,
     "metadata": {},
     "output_type": "execute_result"
    }
   ],
   "source": [
    "Top_rmse=results.sort_values([\"rmse\"],ascending=False).head(20)\n",
    "Top_rmse.head()"
   ]
  },
  {
   "cell_type": "markdown",
   "metadata": {},
   "source": [
    "## Predict the out-sample data\n",
    "\n",
    "Have the betas data, fit them with AR(1) model and store the result, calculate the Half-Life."
   ]
  },
  {
   "cell_type": "code",
   "execution_count": 10,
   "metadata": {},
   "outputs": [],
   "source": [
    "beta_data=[]\n",
    "# Size of beta_data is 20*180*11\n",
    "for i in range(20):\n",
    "    beta_data.append(results.iloc[Top_rmse.index[i]-180:Top_rmse.index[i],0:3].values)"
   ]
  },
  {
   "cell_type": "code",
   "execution_count": 11,
   "metadata": {},
   "outputs": [],
   "source": [
    "from scipy.ndimage.interpolation import shift\n",
    "import statsmodels.api as sm\n",
    "def shiftLR(Y,n):\n",
    "    X=shift(Y, n, cval=np.NaN)\n",
    "    Y=Y[n:]\n",
    "    X=X[n:]\n",
    "    X= sm.add_constant(X)\n",
    "    model = sm.OLS(Y,X).fit()\n",
    "    return model.params"
   ]
  },
  {
   "cell_type": "code",
   "execution_count": 12,
   "metadata": {
    "scrolled": true
   },
   "outputs": [
    {
     "name": "stderr",
     "output_type": "stream",
     "text": [
      "C:\\Users\\wenca\\APP\\Anaconda\\lib\\site-packages\\ipykernel_launcher.py:18: RuntimeWarning: invalid value encountered in log\n"
     ]
    }
   ],
   "source": [
    "from statsmodels.tsa.arima_model import ARMA\n",
    "from scipy.ndimage.interpolation import shift\n",
    "import statsmodels.api as sm\n",
    "\n",
    "HL=[]\n",
    "Predictions=[]\n",
    "for i in range(20):\n",
    "    halflife=[]\n",
    "    pred=[]\n",
    "    for j in range(3):\n",
    "        p1=shiftLR(beta_data[i][:,j],5)\n",
    "        p2=shiftLR(beta_data[i][:,j],10)\n",
    "        p3=shiftLR(beta_data[i][:,j],30)\n",
    "       \n",
    "        # calculate the half life\n",
    "        cur_hf1=round(-np.log(2)/np.log(p1[1]),4)\n",
    "        cur_hf2=round(-np.log(2)/np.log(p2[1]),4)\n",
    "        cur_hf3=round(-np.log(2)/np.log(p3[1]),4)\n",
    "        # predict the next 5, 10, 30 days out sample\n",
    "        prediction5 =round( beta_data[i][:,j][-1]*p1[1]+p1[0],4)\n",
    "        prediction10 =round( beta_data[i][:,j][-1]*p2[1]+p2[0],4)\n",
    "        prediction30 =round(beta_data[i][:,j][-1]*p3[1]+p3[0],4)\n",
    "        pred.append([prediction5,prediction10,prediction30])\n",
    "        halflife.append([cur_hf1,cur_hf2,cur_hf3])\n",
    "    Predictions.append(pred)\n",
    "    HL.append(halflife)"
   ]
  },
  {
   "cell_type": "code",
   "execution_count": 13,
   "metadata": {
    "scrolled": false
   },
   "outputs": [
    {
     "data": {
      "text/html": [
       "<div>\n",
       "<style scoped>\n",
       "    .dataframe tbody tr th:only-of-type {\n",
       "        vertical-align: middle;\n",
       "    }\n",
       "\n",
       "    .dataframe tbody tr th {\n",
       "        vertical-align: top;\n",
       "    }\n",
       "\n",
       "    .dataframe thead th {\n",
       "        text-align: right;\n",
       "    }\n",
       "</style>\n",
       "<table border=\"1\" class=\"dataframe\">\n",
       "  <thead>\n",
       "    <tr style=\"text-align: right;\">\n",
       "      <th></th>\n",
       "      <th>Beta1</th>\n",
       "      <th>Beta2</th>\n",
       "      <th>Beta3</th>\n",
       "    </tr>\n",
       "    <tr>\n",
       "      <th>Date</th>\n",
       "      <th></th>\n",
       "      <th></th>\n",
       "      <th></th>\n",
       "    </tr>\n",
       "  </thead>\n",
       "  <tbody>\n",
       "    <tr>\n",
       "      <th>13/12/31</th>\n",
       "      <td>[7.5408, 3.7907, 1.0158]</td>\n",
       "      <td>[7.7484, 3.8351, 0.9093]</td>\n",
       "      <td>[2.6007, 0.9579, nan]</td>\n",
       "    </tr>\n",
       "    <tr>\n",
       "      <th>13/12/24</th>\n",
       "      <td>[9.615, 4.6256, 1.1036]</td>\n",
       "      <td>[9.4848, 4.5485, 0.984]</td>\n",
       "      <td>[2.6237, 1.0095, nan]</td>\n",
       "    </tr>\n",
       "    <tr>\n",
       "      <th>13/12/27</th>\n",
       "      <td>[8.686, 4.216, 1.0537]</td>\n",
       "      <td>[8.7931, 4.2206, 0.9421]</td>\n",
       "      <td>[2.5021, 0.9667, nan]</td>\n",
       "    </tr>\n",
       "    <tr>\n",
       "      <th>14/1/2</th>\n",
       "      <td>[7.269, 3.6158, 0.9967]</td>\n",
       "      <td>[7.504, 3.6707, 0.8916]</td>\n",
       "      <td>[2.6103, 0.9511, nan]</td>\n",
       "    </tr>\n",
       "    <tr>\n",
       "      <th>13/12/30</th>\n",
       "      <td>[8.0834, 3.9934, 1.0366]</td>\n",
       "      <td>[8.2406, 4.0181, 0.9276]</td>\n",
       "      <td>[2.5447, 0.9601, nan]</td>\n",
       "    </tr>\n",
       "  </tbody>\n",
       "</table>\n",
       "</div>"
      ],
      "text/plain": [
       "                             Beta1                     Beta2  \\\n",
       "Date                                                           \n",
       "13/12/31  [7.5408, 3.7907, 1.0158]  [7.7484, 3.8351, 0.9093]   \n",
       "13/12/24   [9.615, 4.6256, 1.1036]   [9.4848, 4.5485, 0.984]   \n",
       "13/12/27    [8.686, 4.216, 1.0537]  [8.7931, 4.2206, 0.9421]   \n",
       "14/1/2     [7.269, 3.6158, 0.9967]   [7.504, 3.6707, 0.8916]   \n",
       "13/12/30  [8.0834, 3.9934, 1.0366]  [8.2406, 4.0181, 0.9276]   \n",
       "\n",
       "                          Beta3  \n",
       "Date                             \n",
       "13/12/31  [2.6007, 0.9579, nan]  \n",
       "13/12/24  [2.6237, 1.0095, nan]  \n",
       "13/12/27  [2.5021, 0.9667, nan]  \n",
       "14/1/2    [2.6103, 0.9511, nan]  \n",
       "13/12/30  [2.5447, 0.9601, nan]  "
      ]
     },
     "execution_count": 13,
     "metadata": {},
     "output_type": "execute_result"
    }
   ],
   "source": [
    "Half_life=pd.DataFrame(HL)\n",
    "Half_life.index=dfs.index[Top_rmse.index]\n",
    "Half_life.columns=[\"Beta1\",\"Beta2\",\"Beta3\"]\n",
    "Half_life.head()"
   ]
  },
  {
   "cell_type": "markdown",
   "metadata": {},
   "source": [
    "Some of the halflives are nan which means they are not stationary. The autocorrelation parameters are negative for those."
   ]
  },
  {
   "cell_type": "code",
   "execution_count": 14,
   "metadata": {},
   "outputs": [
    {
     "data": {
      "text/html": [
       "<div>\n",
       "<style scoped>\n",
       "    .dataframe tbody tr th:only-of-type {\n",
       "        vertical-align: middle;\n",
       "    }\n",
       "\n",
       "    .dataframe tbody tr th {\n",
       "        vertical-align: top;\n",
       "    }\n",
       "\n",
       "    .dataframe thead th {\n",
       "        text-align: right;\n",
       "    }\n",
       "</style>\n",
       "<table border=\"1\" class=\"dataframe\">\n",
       "  <thead>\n",
       "    <tr style=\"text-align: right;\">\n",
       "      <th></th>\n",
       "      <th>Beta1</th>\n",
       "      <th>Beta2</th>\n",
       "      <th>Beta3</th>\n",
       "    </tr>\n",
       "    <tr>\n",
       "      <th>Date</th>\n",
       "      <th></th>\n",
       "      <th></th>\n",
       "      <th></th>\n",
       "    </tr>\n",
       "  </thead>\n",
       "  <tbody>\n",
       "    <tr>\n",
       "      <th>13/12/31</th>\n",
       "      <td>[4.6937, 4.6951, 4.6719]</td>\n",
       "      <td>[-4.7468, -4.746, -4.6836]</td>\n",
       "      <td>[-4.0099, -4.1126, -4.3192]</td>\n",
       "    </tr>\n",
       "    <tr>\n",
       "      <th>13/12/24</th>\n",
       "      <td>[4.6308, 4.64, 4.6392]</td>\n",
       "      <td>[-4.6824, -4.6891, -4.6512]</td>\n",
       "      <td>[-3.9646, -4.0834, -4.3236]</td>\n",
       "    </tr>\n",
       "    <tr>\n",
       "      <th>13/12/27</th>\n",
       "      <td>[4.7009, 4.7036, 4.6766]</td>\n",
       "      <td>[-4.7669, -4.766, -4.6936]</td>\n",
       "      <td>[-3.9258, -4.0598, -4.3326]</td>\n",
       "    </tr>\n",
       "    <tr>\n",
       "      <th>14/1/2</th>\n",
       "      <td>[4.7645, 4.7578, 4.7102]</td>\n",
       "      <td>[-4.8225, -4.8131, -4.7213]</td>\n",
       "      <td>[-4.0526, -4.1377, -4.3093]</td>\n",
       "    </tr>\n",
       "    <tr>\n",
       "      <th>13/12/30</th>\n",
       "      <td>[4.7356, 4.7348, 4.6962]</td>\n",
       "      <td>[-4.7976, -4.7936, -4.7101]</td>\n",
       "      <td>[-4.0031, -4.1096, -4.3191]</td>\n",
       "    </tr>\n",
       "  </tbody>\n",
       "</table>\n",
       "</div>"
      ],
      "text/plain": [
       "                             Beta1                        Beta2  \\\n",
       "Date                                                              \n",
       "13/12/31  [4.6937, 4.6951, 4.6719]   [-4.7468, -4.746, -4.6836]   \n",
       "13/12/24    [4.6308, 4.64, 4.6392]  [-4.6824, -4.6891, -4.6512]   \n",
       "13/12/27  [4.7009, 4.7036, 4.6766]   [-4.7669, -4.766, -4.6936]   \n",
       "14/1/2    [4.7645, 4.7578, 4.7102]  [-4.8225, -4.8131, -4.7213]   \n",
       "13/12/30  [4.7356, 4.7348, 4.6962]  [-4.7976, -4.7936, -4.7101]   \n",
       "\n",
       "                                Beta3  \n",
       "Date                                   \n",
       "13/12/31  [-4.0099, -4.1126, -4.3192]  \n",
       "13/12/24  [-3.9646, -4.0834, -4.3236]  \n",
       "13/12/27  [-3.9258, -4.0598, -4.3326]  \n",
       "14/1/2    [-4.0526, -4.1377, -4.3093]  \n",
       "13/12/30  [-4.0031, -4.1096, -4.3191]  "
      ]
     },
     "execution_count": 14,
     "metadata": {},
     "output_type": "execute_result"
    }
   ],
   "source": [
    "beta_pred=round(pd.DataFrame(Predictions),3)\n",
    "beta_pred.index=dfs.index[Top_rmse.index]\n",
    "beta_pred.columns=[\"Beta1\",\"Beta2\",\"Beta3\"]\n",
    "beta_pred.head()"
   ]
  },
  {
   "cell_type": "code",
   "execution_count": 15,
   "metadata": {},
   "outputs": [],
   "source": [
    "def NSpred(B1,B2,B3,lamb):\n",
    "    #set the parameters\n",
    "\n",
    "    t=np.array([1/12,3/12,6/12,1,2,3,5,7,10,20,30])*12\n",
    "    fac1=(1-np.e**(-lamb*t))/(lamb*t)\n",
    "    fac2=fac1-np.e**(-lamb*t)\n",
    "    Y=B1+B2*fac1+B3*fac2\n",
    "    #return the <1*11> vector\n",
    "    return Y"
   ]
  },
  {
   "cell_type": "code",
   "execution_count": 16,
   "metadata": {},
   "outputs": [],
   "source": [
    "pred5d=[]\n",
    "pred10d=[]\n",
    "pred30d=[]\n",
    "# 20 days insample data\n",
    "for i in range(20):\n",
    "\n",
    "    # 5 day out sample prediction\n",
    "    B1=beta_pred.iloc[i,0][0]\n",
    "    B2=beta_pred.iloc[i,1][1]\n",
    "    B3=beta_pred.iloc[i,2][2]\n",
    "    pred5d.append(NSpred(B1,B2,B3,Opt_lambda))\n",
    "    \n",
    "    # 10 day out sample prediction\n",
    "    B1=beta_pred.iloc[i,0][0]\n",
    "    B2=beta_pred.iloc[i,1][1]\n",
    "    B3=beta_pred.iloc[i,2][2]\n",
    "    pred10d.append(NSpred(B1,B2,B3,Opt_lambda))\n",
    "    \n",
    "    # 30 day out sample prediction\n",
    "    B1=beta_pred.iloc[i,0][0]\n",
    "    B2=beta_pred.iloc[i,1][1]\n",
    "    B3=beta_pred.iloc[i,2][2]\n",
    "    pred30d.append(NSpred(B1,B2,B3,Opt_lambda))\n"
   ]
  },
  {
   "cell_type": "markdown",
   "metadata": {},
   "source": [
    "Shape of the pred5d is 20 * 11, which means there are 20 <1*11> prediction which predict 5 days after the current data. Choose 5 days to see the prediction result."
   ]
  },
  {
   "cell_type": "code",
   "execution_count": 17,
   "metadata": {},
   "outputs": [
    {
     "name": "stdout",
     "output_type": "stream",
     "text": [
      "(20, 11)\n"
     ]
    },
    {
     "data": {
      "text/html": [
       "<div>\n",
       "<style scoped>\n",
       "    .dataframe tbody tr th:only-of-type {\n",
       "        vertical-align: middle;\n",
       "    }\n",
       "\n",
       "    .dataframe tbody tr th {\n",
       "        vertical-align: top;\n",
       "    }\n",
       "\n",
       "    .dataframe thead th {\n",
       "        text-align: right;\n",
       "    }\n",
       "</style>\n",
       "<table border=\"1\" class=\"dataframe\">\n",
       "  <thead>\n",
       "    <tr style=\"text-align: right;\">\n",
       "      <th></th>\n",
       "      <th>1 MO</th>\n",
       "      <th>3 MO</th>\n",
       "      <th>6 MO</th>\n",
       "      <th>1 YR</th>\n",
       "      <th>2 YR</th>\n",
       "      <th>3 YR</th>\n",
       "      <th>5 YR</th>\n",
       "      <th>7 YR</th>\n",
       "      <th>10 YR</th>\n",
       "      <th>20 YR</th>\n",
       "      <th>30 YR</th>\n",
       "    </tr>\n",
       "  </thead>\n",
       "  <tbody>\n",
       "    <tr>\n",
       "      <th>504</th>\n",
       "      <td>-0.044</td>\n",
       "      <td>-0.021</td>\n",
       "      <td>0.024</td>\n",
       "      <td>0.144</td>\n",
       "      <td>0.463</td>\n",
       "      <td>0.825</td>\n",
       "      <td>1.523</td>\n",
       "      <td>2.101</td>\n",
       "      <td>2.727</td>\n",
       "      <td>3.674</td>\n",
       "      <td>4.013</td>\n",
       "    </tr>\n",
       "    <tr>\n",
       "      <th>500</th>\n",
       "      <td>-0.051</td>\n",
       "      <td>-0.030</td>\n",
       "      <td>0.011</td>\n",
       "      <td>0.126</td>\n",
       "      <td>0.437</td>\n",
       "      <td>0.792</td>\n",
       "      <td>1.482</td>\n",
       "      <td>2.054</td>\n",
       "      <td>2.676</td>\n",
       "      <td>3.617</td>\n",
       "      <td>3.954</td>\n",
       "    </tr>\n",
       "    <tr>\n",
       "      <th>502</th>\n",
       "      <td>-0.056</td>\n",
       "      <td>-0.033</td>\n",
       "      <td>0.012</td>\n",
       "      <td>0.133</td>\n",
       "      <td>0.454</td>\n",
       "      <td>0.817</td>\n",
       "      <td>1.518</td>\n",
       "      <td>2.098</td>\n",
       "      <td>2.727</td>\n",
       "      <td>3.677</td>\n",
       "      <td>4.018</td>\n",
       "    </tr>\n",
       "    <tr>\n",
       "      <th>505</th>\n",
       "      <td>-0.038</td>\n",
       "      <td>-0.013</td>\n",
       "      <td>0.035</td>\n",
       "      <td>0.162</td>\n",
       "      <td>0.492</td>\n",
       "      <td>0.861</td>\n",
       "      <td>1.570</td>\n",
       "      <td>2.153</td>\n",
       "      <td>2.785</td>\n",
       "      <td>3.738</td>\n",
       "      <td>4.080</td>\n",
       "    </tr>\n",
       "    <tr>\n",
       "      <th>503</th>\n",
       "      <td>-0.048</td>\n",
       "      <td>-0.024</td>\n",
       "      <td>0.023</td>\n",
       "      <td>0.148</td>\n",
       "      <td>0.474</td>\n",
       "      <td>0.840</td>\n",
       "      <td>1.546</td>\n",
       "      <td>2.128</td>\n",
       "      <td>2.759</td>\n",
       "      <td>3.710</td>\n",
       "      <td>4.052</td>\n",
       "    </tr>\n",
       "  </tbody>\n",
       "</table>\n",
       "</div>"
      ],
      "text/plain": [
       "      1 MO   3 MO   6 MO   1 YR   2 YR   3 YR   5 YR   7 YR  10 YR  20 YR  \\\n",
       "504 -0.044 -0.021  0.024  0.144  0.463  0.825  1.523  2.101  2.727  3.674   \n",
       "500 -0.051 -0.030  0.011  0.126  0.437  0.792  1.482  2.054  2.676  3.617   \n",
       "502 -0.056 -0.033  0.012  0.133  0.454  0.817  1.518  2.098  2.727  3.677   \n",
       "505 -0.038 -0.013  0.035  0.162  0.492  0.861  1.570  2.153  2.785  3.738   \n",
       "503 -0.048 -0.024  0.023  0.148  0.474  0.840  1.546  2.128  2.759  3.710   \n",
       "\n",
       "     30 YR  \n",
       "504  4.013  \n",
       "500  3.954  \n",
       "502  4.018  \n",
       "505  4.080  \n",
       "503  4.052  "
      ]
     },
     "execution_count": 17,
     "metadata": {},
     "output_type": "execute_result"
    }
   ],
   "source": [
    "print(np.shape(pred5d))\n",
    "round(pd.DataFrame(pred5d,columns=dfs.columns,index=Top_rmse.index+5).head(),3)"
   ]
  },
  {
   "cell_type": "markdown",
   "metadata": {},
   "source": [
    "Choose the same Top 5 RMSE days to see the true value."
   ]
  },
  {
   "cell_type": "code",
   "execution_count": 18,
   "metadata": {},
   "outputs": [
    {
     "data": {
      "text/html": [
       "<div>\n",
       "<style scoped>\n",
       "    .dataframe tbody tr th:only-of-type {\n",
       "        vertical-align: middle;\n",
       "    }\n",
       "\n",
       "    .dataframe tbody tr th {\n",
       "        vertical-align: top;\n",
       "    }\n",
       "\n",
       "    .dataframe thead th {\n",
       "        text-align: right;\n",
       "    }\n",
       "</style>\n",
       "<table border=\"1\" class=\"dataframe\">\n",
       "  <thead>\n",
       "    <tr style=\"text-align: right;\">\n",
       "      <th></th>\n",
       "      <th>1 MO</th>\n",
       "      <th>3 MO</th>\n",
       "      <th>6 MO</th>\n",
       "      <th>1 YR</th>\n",
       "      <th>2 YR</th>\n",
       "      <th>3 YR</th>\n",
       "      <th>5 YR</th>\n",
       "      <th>7 YR</th>\n",
       "      <th>10 YR</th>\n",
       "      <th>20 YR</th>\n",
       "      <th>30 YR</th>\n",
       "    </tr>\n",
       "    <tr>\n",
       "      <th>Date</th>\n",
       "      <th></th>\n",
       "      <th></th>\n",
       "      <th></th>\n",
       "      <th></th>\n",
       "      <th></th>\n",
       "      <th></th>\n",
       "      <th></th>\n",
       "      <th></th>\n",
       "      <th></th>\n",
       "      <th></th>\n",
       "      <th></th>\n",
       "    </tr>\n",
       "  </thead>\n",
       "  <tbody>\n",
       "    <tr>\n",
       "      <th>14/1/8</th>\n",
       "      <td>0.00</td>\n",
       "      <td>0.05</td>\n",
       "      <td>0.08</td>\n",
       "      <td>0.13</td>\n",
       "      <td>0.43</td>\n",
       "      <td>0.87</td>\n",
       "      <td>1.77</td>\n",
       "      <td>2.44</td>\n",
       "      <td>3.01</td>\n",
       "      <td>3.67</td>\n",
       "      <td>3.90</td>\n",
       "    </tr>\n",
       "    <tr>\n",
       "      <th>14/1/2</th>\n",
       "      <td>0.01</td>\n",
       "      <td>0.07</td>\n",
       "      <td>0.09</td>\n",
       "      <td>0.13</td>\n",
       "      <td>0.39</td>\n",
       "      <td>0.76</td>\n",
       "      <td>1.72</td>\n",
       "      <td>2.41</td>\n",
       "      <td>3.00</td>\n",
       "      <td>3.68</td>\n",
       "      <td>3.92</td>\n",
       "    </tr>\n",
       "    <tr>\n",
       "      <th>14/1/6</th>\n",
       "      <td>0.01</td>\n",
       "      <td>0.05</td>\n",
       "      <td>0.08</td>\n",
       "      <td>0.12</td>\n",
       "      <td>0.40</td>\n",
       "      <td>0.78</td>\n",
       "      <td>1.70</td>\n",
       "      <td>2.38</td>\n",
       "      <td>2.98</td>\n",
       "      <td>3.66</td>\n",
       "      <td>3.90</td>\n",
       "    </tr>\n",
       "    <tr>\n",
       "      <th>14/1/9</th>\n",
       "      <td>0.01</td>\n",
       "      <td>0.04</td>\n",
       "      <td>0.06</td>\n",
       "      <td>0.13</td>\n",
       "      <td>0.44</td>\n",
       "      <td>0.86</td>\n",
       "      <td>1.75</td>\n",
       "      <td>2.41</td>\n",
       "      <td>2.97</td>\n",
       "      <td>3.62</td>\n",
       "      <td>3.88</td>\n",
       "    </tr>\n",
       "    <tr>\n",
       "      <th>14/1/7</th>\n",
       "      <td>0.01</td>\n",
       "      <td>0.04</td>\n",
       "      <td>0.08</td>\n",
       "      <td>0.13</td>\n",
       "      <td>0.40</td>\n",
       "      <td>0.80</td>\n",
       "      <td>1.69</td>\n",
       "      <td>2.37</td>\n",
       "      <td>2.96</td>\n",
       "      <td>3.64</td>\n",
       "      <td>3.88</td>\n",
       "    </tr>\n",
       "  </tbody>\n",
       "</table>\n",
       "</div>"
      ],
      "text/plain": [
       "        1 MO  3 MO  6 MO  1 YR  2 YR  3 YR  5 YR  7 YR  10 YR  20 YR  30 YR\n",
       "Date                                                                       \n",
       "14/1/8  0.00  0.05  0.08  0.13  0.43  0.87  1.77  2.44   3.01   3.67   3.90\n",
       "14/1/2  0.01  0.07  0.09  0.13  0.39  0.76  1.72  2.41   3.00   3.68   3.92\n",
       "14/1/6  0.01  0.05  0.08  0.12  0.40  0.78  1.70  2.38   2.98   3.66   3.90\n",
       "14/1/9  0.01  0.04  0.06  0.13  0.44  0.86  1.75  2.41   2.97   3.62   3.88\n",
       "14/1/7  0.01  0.04  0.08  0.13  0.40  0.80  1.69  2.37   2.96   3.64   3.88"
      ]
     },
     "execution_count": 18,
     "metadata": {},
     "output_type": "execute_result"
    }
   ],
   "source": [
    "dfs.iloc[Top_rmse.index[0:5]+5,:]"
   ]
  },
  {
   "cell_type": "markdown",
   "metadata": {},
   "source": [
    "The 5-day prediction of the dates we choose are very close to the true value ."
   ]
  },
  {
   "cell_type": "markdown",
   "metadata": {},
   "source": [
    "## Compare the result with Random Walk prediction"
   ]
  },
  {
   "cell_type": "markdown",
   "metadata": {},
   "source": [
    "According to random walk assumption:\n",
    "$$\\hat{y}_{t+h/t}(\\tau)=y_t(\\tau)$$\n",
    "The forecast is always \"no change\""
   ]
  },
  {
   "cell_type": "markdown",
   "metadata": {},
   "source": [
    "Use the data of the top 1 RMSE date to represent the prediction by Nelson-Siegel model."
   ]
  },
  {
   "cell_type": "code",
   "execution_count": 19,
   "metadata": {},
   "outputs": [],
   "source": [
    "NS_pred=pd.DataFrame(pred5d,columns=dfs.columns,index=Top_rmse.index+5).iloc[0,:]\n",
    "RW_data=dfs.iloc[Top_rmse.index[0],:]\n",
    "T_data=dfs.iloc[Top_rmse.index[0]+5,:]"
   ]
  },
  {
   "cell_type": "markdown",
   "metadata": {},
   "source": [
    "Compare the 5th day prediction data and data under random walk assumption."
   ]
  },
  {
   "cell_type": "code",
   "execution_count": 20,
   "metadata": {},
   "outputs": [
    {
     "data": {
      "image/png": "[encoded data removed]",
      "text/plain": [
       "<Figure size 864x576 with 1 Axes>"
      ]
     },
     "metadata": {
      "needs_background": "light"
     },
     "output_type": "display_data"
    }
   ],
   "source": [
    "import matplotlib.pyplot as plt\n",
    "plt.figure(figsize=(12,8))\n",
    "plt.plot(NS_pred,label='Nelson-Seigel model')\n",
    "plt.plot(RW_data,label='Random Walk model')\n",
    "plt.plot(T_data,\"ro\",color=\"black\",label='True value',markersize=5)\n",
    "plt.legend(loc='upper left')\n",
    "plt.xlabel('maturity')\n",
    "plt.title('5th day Nelson-Seigel yield and Random Walk yield')\n",
    "plt.ylabel('yield')\n",
    "plt.show()"
   ]
  },
  {
   "cell_type": "markdown",
   "metadata": {},
   "source": [
    "Use the top 1 RMSE data to represent the prediction by Nelson-Siegel model, and compare the 10th day prediction data and data under random walk assumption."
   ]
  },
  {
   "cell_type": "code",
   "execution_count": 21,
   "metadata": {},
   "outputs": [
    {
     "data": {
      "image/png": "[encoded data removed]",
      "text/plain": [
       "<Figure size 864x576 with 1 Axes>"
      ]
     },
     "metadata": {
      "needs_background": "light"
     },
     "output_type": "display_data"
    }
   ],
   "source": [
    "NS_pred=pd.DataFrame(pred10d,columns=dfs.columns,index=Top_rmse.index+10).iloc[0,:]\n",
    "RW_data=dfs.iloc[Top_rmse.index[0],:]\n",
    "T_data=dfs.iloc[Top_rmse.index[0]+10,:]\n",
    "\n",
    "import matplotlib.pyplot as plt\n",
    "plt.figure(figsize=(12,8))\n",
    "plt.plot(NS_pred,label='Nelson-Seigel model')\n",
    "plt.plot(RW_data,label='Random Walk model')\n",
    "plt.plot(T_data,\"ro\",color=\"black\",label='True value',markersize=5)\n",
    "plt.legend(loc='upper left')\n",
    "plt.xlabel('maturity')\n",
    "plt.title('10th day Nelson-Seigel yield and Random Walk yield')\n",
    "plt.ylabel('yield')\n",
    "plt.show()"
   ]
  },
  {
   "cell_type": "markdown",
   "metadata": {},
   "source": [
    "Use the top 1 RMSE data to represent the prediction by Nelson-Siegel model, and compare the 30th day prediction data and data under random walk assumption."
   ]
  },
  {
   "cell_type": "code",
   "execution_count": 22,
   "metadata": {},
   "outputs": [
    {
     "data": {
      "image/png": "[encoded data removed]",
      "text/plain": [
       "<Figure size 864x576 with 1 Axes>"
      ]
     },
     "metadata": {
      "needs_background": "light"
     },
     "output_type": "display_data"
    }
   ],
   "source": [
    "NS_pred=pd.DataFrame(pred30d,columns=dfs.columns,index=Top_rmse.index+30).iloc[0,:]\n",
    "RW_data=dfs.iloc[Top_rmse.index[0],:]\n",
    "T_data=dfs.iloc[Top_rmse.index[0]+30,:]\n",
    "\n",
    "import matplotlib.pyplot as plt\n",
    "plt.figure(figsize=(12,8))\n",
    "plt.plot(NS_pred,label='Nelson-Seigel model')\n",
    "plt.plot(RW_data,label='Random Walk model')\n",
    "plt.plot(T_data,\"ro\",color=\"black\",label='True value',markersize=5)\n",
    "plt.legend(loc='upper left')\n",
    "plt.xlabel('maturity')\n",
    "plt.title('30th day Nelson-Seigel yield and Random Walk yield')\n",
    "plt.ylabel('yield')\n",
    "plt.show()"
   ]
  },
  {
   "cell_type": "markdown",
   "metadata": {},
   "source": [
    "It is easy to see that when prediction window is small, the Nelson-Seigel model and Random Walk model have the similar prediction ability. \n",
    "\n",
    "However, with more days away from the spot day, the Nelson-Seigel would have better prediction ability than Random Walk model, because with more days go by, the assumption of Random Walk model that the forecast is always \"no change\" would not hold anymore."
   ]
  },
  {
   "cell_type": "code",
   "execution_count": null,
   "metadata": {},
   "outputs": [],
   "source": []
  }
 ],
 "metadata": {
  "kernelspec": {
   "display_name": "Python 3",
   "language": "python",
   "name": "python3"
  },
  "language_info": {
   "codemirror_mode": {
    "name": "ipython",
    "version": 3
   },
   "file_extension": ".py",
   "mimetype": "text/x-python",
   "name": "python",
   "nbconvert_exporter": "python",
   "pygments_lexer": "ipython3",
   "version": "3.7.3-final"
  },
  "toc": {
   "base_numbering": 1,
   "nav_menu": {},
   "number_sections": true,
   "sideBar": true,
   "skip_h1_title": false,
   "title_cell": "Table of Contents",
   "title_sidebar": "Contents",
   "toc_cell": false,
   "toc_position": {},
   "toc_section_display": true,
   "toc_window_display": true
  }
 },
 "nbformat": 4,
 "nbformat_minor": 2
}